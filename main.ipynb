{
 "cells": [
  {
   "cell_type": "markdown",
   "id": "637078ee",
   "metadata": {},
   "source": [
    "# Reinforcement Learning Final Project #\n",
    "\n",
    "### Caleb Stillman ###\n",
    "\n",
    "GitHub: https://github.com/cstillma/RLFinalProject\n",
    "\n",
    "## Project Overview ## \n",
    "\n",
    "In this final project for the CSPB3202 Intro to AI course, I'll be building a Deep Q-Network agent to test in the Box2D Car Racing environment available through OpenAI Gymnasium. This particular reinforcement learning algorithm has been covered in lectures but was not one that was used in any previous homeworks, so this will serve as a hands-on test of my understanding of this algorithm. I will also be including a simple random agent so I have a performance baseline to compare my DQN model to in the Car Racing environment. Time permitting, I will test the DQN agent on other OpenAI Gymnasium environments like the Lunar Landing environment to see the algorithm's performance in different settings. \n",
    "\n",
    "## Approach ##\n",
    "\n",
    "### Setting up the environment ###"
   ]
  },
  {
   "cell_type": "code",
   "execution_count": 1,
   "id": "fd7f1898",
   "metadata": {},
   "outputs": [],
   "source": [
    "import gymnasium as gym\n",
    "import random_agent\n"
   ]
  },
  {
   "cell_type": "markdown",
   "id": "e446e8b0",
   "metadata": {},
   "source": [
    "### Setting a Baseline ###\n",
    "\n",
    "I'll be using a simple random agent to set a baseline for the performance of the DQN agent."
   ]
  },
  {
   "cell_type": "code",
   "execution_count": 2,
   "id": "7efa422b",
   "metadata": {},
   "outputs": [
    {
     "name": "stdout",
     "output_type": "stream",
     "text": [
      "Episode 1 finished with a score of reward: -582.9149253731705\n",
      "Episode 2 finished with a score of reward: -1051.8576642337243\n",
      "Episode 3 finished with a score of reward: -1150.3259259260644\n",
      "Episode 4 finished with a score of reward: -1090.3798165139176\n",
      "Episode 5 finished with a score of reward: -1134.9443037976214\n"
     ]
    }
   ],
   "source": [
    "# Call the main function for the random agent\n",
    "random_agent.RA_main()"
   ]
  },
  {
   "cell_type": "markdown",
   "id": "4887f836",
   "metadata": {},
   "source": [
    "The testing the random agent for 5 episodes shows that it performs very poorly at this game. Not a hard benchmark to beat at least. "
   ]
  },
  {
   "cell_type": "markdown",
   "id": "3182aaae",
   "metadata": {},
   "source": [
    "## Result ##"
   ]
  },
  {
   "cell_type": "code",
   "execution_count": null,
   "id": "49f54ff3",
   "metadata": {},
   "outputs": [],
   "source": []
  },
  {
   "cell_type": "markdown",
   "id": "39b44ac9",
   "metadata": {},
   "source": [
    "## Video Demo ##"
   ]
  },
  {
   "cell_type": "code",
   "execution_count": null,
   "id": "29edb8f4",
   "metadata": {},
   "outputs": [],
   "source": []
  },
  {
   "cell_type": "markdown",
   "id": "2a51f420",
   "metadata": {},
   "source": [
    "## Conclusion ##"
   ]
  }
 ],
 "metadata": {
  "kernelspec": {
   "display_name": "Python 3",
   "language": "python",
   "name": "python3"
  },
  "language_info": {
   "codemirror_mode": {
    "name": "ipython",
    "version": 3
   },
   "file_extension": ".py",
   "mimetype": "text/x-python",
   "name": "python",
   "nbconvert_exporter": "python",
   "pygments_lexer": "ipython3",
   "version": "3.13.3"
  }
 },
 "nbformat": 4,
 "nbformat_minor": 5
}
